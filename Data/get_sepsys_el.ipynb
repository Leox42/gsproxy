{
 "cells": [
  {
   "metadata": {},
   "cell_type": "markdown",
   "source": "# Event Log Preprocessing",
   "id": "95dfac25a18b8a3d"
  },
  {
   "metadata": {},
   "cell_type": "code",
   "outputs": [],
   "execution_count": null,
   "source": "import pm4py",
   "id": "a05f554ebb2f1c89"
  },
  {
   "metadata": {},
   "cell_type": "markdown",
   "source": [
    "Sepsis Event Log: \n",
    "Mannhardt, Felix (2016): Sepsis Cases - Event Log. Version 1. 4TU.ResearchData. dataset. https://doi.org/10.4121/uuid:915d2bfb-7e84-49ad-a286-dc35f063a460"
   ],
   "id": "91317699f61d9a7e"
  },
  {
   "metadata": {
    "collapsed": true
   },
   "cell_type": "code",
   "source": [
    "input_file_path = './path/to/your/local/Sepsis Cases - Event Log.xes'\n",
    "\n",
    "log = pm4py.read_xes(input_file_path)\n",
    "df = pm4py.convert_to_dataframe(log)\n",
    "df"
   ],
   "id": "initial_id",
   "outputs": [],
   "execution_count": null
  },
  {
   "metadata": {},
   "cell_type": "code",
   "source": "df.info()",
   "id": "2d3462976cfc90f1",
   "outputs": [],
   "execution_count": null
  },
  {
   "metadata": {},
   "cell_type": "markdown",
   "source": "Petri Net obtained using inductive algorithm:",
   "id": "5131e612bf845f4b"
  },
  {
   "metadata": {},
   "cell_type": "code",
   "source": [
    "net, initial_marking, final_marking = pm4py.discover_petri_net_inductive(log)\n",
    "pm4py.view_petri_net(net, initial_marking, final_marking)"
   ],
   "id": "8e5f713f4a871e1e",
   "outputs": [],
   "execution_count": null
  },
  {
   "metadata": {},
   "cell_type": "markdown",
   "source": "Petri Net obtained using Alpha Algorithm:",
   "id": "15dcae431991ffc7"
  },
  {
   "metadata": {},
   "cell_type": "code",
   "source": [
    "net_alpha, initial_marking_alpha, final_marking_alpha = pm4py.algo.discovery.alpha.algorithm.apply(log)\n",
    "\n",
    "pm4py.view_petri_net(net_alpha, initial_marking_alpha, final_marking_alpha)\n",
    "df[['case:concept:name', 'concept:name', 'time:timestamp']].to_csv('./EL_tot.csv', index=False)"
   ],
   "id": "7e8e9bc099124c6f",
   "outputs": [],
   "execution_count": null
  },
  {
   "metadata": {},
   "cell_type": "markdown",
   "source": "Preprocessing:",
   "id": "e45fc383ed42b3c0"
  },
  {
   "metadata": {},
   "cell_type": "code",
   "source": [
    "print('Min and Max dates in the log:')\n",
    "print(min(df['time:timestamp']))\n",
    "print(max(df['time:timestamp']))\n",
    "\n",
    "start_date = '2013-11-07'\n",
    "end_date = '2014-06-07'\n",
    "log_filtered = pm4py.filter_time_range(log, f\"{start_date} 00:00:00\", f\"{end_date} 23:59:59\", mode='traces_contained')\n",
    "case_log_filtered = list(log_filtered['case:concept:name'].unique())\n",
    "df_filtered = df.loc[df['case:concept:name'].isin(list(case_log_filtered))]\n",
    "df_filtered = df_filtered[['case:concept:name', 'concept:name', 'time:timestamp']].rename(columns={'case:concept:name':'ID', 'concept:name':'event', 'time:timestamp':'date'})\n",
    "\n",
    "print('Number of unique cases in filtered XES:')\n",
    "print(len(case_log_filtered))\n",
    "print('Number of unique cases in filtered df:')\n",
    "print(df_filtered['ID'].nunique())\n",
    "\n",
    "assert set(case_log_filtered) == set(df_filtered['ID'])\n",
    "\n",
    "df_filtered['date'] = df_filtered['date'].dt.strftime('%d/%m/%Y %H:%M:%S')\n",
    "\n",
    "group_id = list(df_filtered['ID'].unique())\n",
    "third_id = round(len(group_id)/3)\n",
    "half_id = round(len(group_id)/2)\n",
    "\n",
    "first_group = group_id[:third_id]\n",
    "second_group = group_id[third_id:half_id]\n",
    "third_group = group_id[half_id:]\n",
    "\n",
    "print('Number of cases in the 3 groups:')\n",
    "print(len(first_group))\n",
    "print(len(second_group))\n",
    "print(len(third_group))\n",
    "\n",
    "\n",
    "df_filtered_first = df_filtered[df_filtered['ID'].isin(first_group)]\n",
    "df_filtered_second = df_filtered[df_filtered['ID'].isin(second_group)]\n",
    "df_filtered_third = df_filtered[df_filtered['ID'].isin(third_group)]"
   ],
   "id": "d888accda1c9fe3",
   "outputs": [],
   "execution_count": null
  },
  {
   "metadata": {},
   "cell_type": "markdown",
   "source": "Petri Net obtained using Alpha Algorithm on filtered log:\n",
   "id": "253c023d364598a9"
  },
  {
   "metadata": {},
   "cell_type": "code",
   "source": [
    "net, initial_marking, final_marking = pm4py.algo.discovery.alpha.algorithm.apply(log_filtered)\n",
    "\n",
    "pm4py.view_petri_net(net, initial_marking, final_marking)"
   ],
   "id": "e8c63585684a7431",
   "outputs": [],
   "execution_count": null
  },
  {
   "metadata": {},
   "cell_type": "markdown",
   "source": "Petri Net obtained using Alpha Plus Algorithm on filtered log:",
   "id": "b1f333dd1c10ddcd"
  },
  {
   "metadata": {},
   "cell_type": "code",
   "source": [
    "net_Ap, initial_marking_Ap, final_marking_Ap, causal, parallel, follows = pm4py.algo.discovery.alpha.algorithm.apply(log_filtered, variant=pm4py.algo.discovery.alpha.algorithm.Variants.ALPHA_VERSION_PLUS)\n",
    "\n",
    "pm4py.view_petri_net(net_Ap, initial_marking_Ap, final_marking_Ap)"
   ],
   "id": "2838aa28cf90f8b1",
   "outputs": [],
   "execution_count": null
  },
  {
   "metadata": {},
   "cell_type": "code",
   "source": [
    "df_filtered.info()\n",
    "\n",
    "df_filtered.to_csv('./EL.csv', index=False)\n",
    "df_filtered_first.to_csv('./EL.1.csv', index=False)\n",
    "df_filtered_second.to_csv('./EL.2.csv', index=False)\n",
    "df_filtered_third.to_csv('./EL.3.csv', index=False)"
   ],
   "id": "b50d208612bf6232",
   "outputs": [],
   "execution_count": null
  }
 ],
 "metadata": {
  "kernelspec": {
   "display_name": "Python 3",
   "language": "python",
   "name": "python3"
  },
  "language_info": {
   "codemirror_mode": {
    "name": "ipython",
    "version": 2
   },
   "file_extension": ".py",
   "mimetype": "text/x-python",
   "name": "python",
   "nbconvert_exporter": "python",
   "pygments_lexer": "ipython2",
   "version": "2.7.6"
  }
 },
 "nbformat": 4,
 "nbformat_minor": 5
}
